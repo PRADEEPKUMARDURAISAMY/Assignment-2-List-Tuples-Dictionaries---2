{
 "cells": [
  {
   "cell_type": "code",
   "execution_count": 2,
   "id": "ae3c67a6",
   "metadata": {},
   "outputs": [
    {
     "name": "stdout",
     "output_type": "stream",
     "text": [
      "{'97': 'a', '98': 'b', '99': 'c', '100': 'd', '101': 'e', '102': 'f', '103': 'g', '104': 'h', '105': 'i', '106': 'j', '107': 'k', '108': 'l', '109': 'm', '110': 'n', '111': 'o', '112': 'p', '113': 'q', '114': 'r', '115': 's', '116': 't', '117': 'u', '118': 'v', '119': 'w', '120': 'x', '121': 'y', '122': 'z'}\n"
     ]
    }
   ],
   "source": [
    "ASCII = dict()\n",
    "alphabet = range(97,123)\n",
    "for i in alphabet:\n",
    "    ASCII[str(i)] = chr(i)\n",
    "print(ASCII)\n"
   ]
  },
  {
   "cell_type": "code",
   "execution_count": null,
   "id": "7257cfe2",
   "metadata": {},
   "outputs": [],
   "source": []
  }
 ],
 "metadata": {
  "kernelspec": {
   "display_name": "Python 3 (ipykernel)",
   "language": "python",
   "name": "python3"
  },
  "language_info": {
   "codemirror_mode": {
    "name": "ipython",
    "version": 3
   },
   "file_extension": ".py",
   "mimetype": "text/x-python",
   "name": "python",
   "nbconvert_exporter": "python",
   "pygments_lexer": "ipython3",
   "version": "3.10.2"
  }
 },
 "nbformat": 4,
 "nbformat_minor": 5
}
